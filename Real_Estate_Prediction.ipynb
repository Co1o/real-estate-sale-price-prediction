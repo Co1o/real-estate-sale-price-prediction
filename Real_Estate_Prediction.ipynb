{
  "nbformat": 4,
  "nbformat_minor": 0,
  "metadata": {
    "colab": {
      "provenance": []
    },
    "kernelspec": {
      "name": "python3",
      "display_name": "Python 3"
    },
    "language_info": {
      "name": "python"
    }
  },
  "cells": [
    {
      "cell_type": "markdown",
      "source": [
        "# **Real Estate Prediction**\n",
        "\n",
        "\n",
        "Yuchen Dai\n"
      ],
      "metadata": {
        "id": "sHOMsm2hwjBc"
      }
    },
    {
      "cell_type": "markdown",
      "source": [
        "## **Problem description**"
      ],
      "metadata": {
        "id": "u_GRlN8fxNUS"
      }
    },
    {
      "cell_type": "markdown",
      "source": [
        "\n",
        "In the realm of predictive analytics, an application of probabilistic forecasting can significantly aid industries in anticipating future sales. By leveraging models that consider uncertainty and variability in data, businesses can generate predictions that encompass a range of possible outcomes, rather than a single point estimate. For instance, using a dataset from Kaggle that includes various explanatory variables about homes in Ames, Iowa, we have constructed a predictive model using Python's scikit-learn library. This model incorporates both numerical and categorical data, addressing issues like missing values and skewness in the distribution of the sale prices. Through transformations such as logarithmic scaling and the implementation of a Gamma regression model, we have been able to predict house sale prices. Extending this methodology, industries could apply similar probabilistic models to forecast sales, adapting the features and model specifics to their data and market conditions. This approach not only enhances the accuracy of the forecasts but also provides a confidence interval around the predictions, enabling businesses to better manage inventory, allocate resources, and plan strategically under uncertainty."
      ],
      "metadata": {
        "id": "zD89ZfQnxPA2"
      }
    },
    {
      "cell_type": "markdown",
      "source": [
        "## **Data**"
      ],
      "metadata": {
        "id": "W8HmaGHJxNX3"
      }
    },
    {
      "cell_type": "markdown",
      "source": [
        "The data is from Kaggle.The data contains 79 explanatory variables describing various aspects of homes in Ames, Iowa. The histogram of SalePrice suggests it is right-skewed, which is typical for monetary variables. This skewness is a primary factor for considering transformations to stabilize variance and make the data conform more closely to a normal distribution. An exploration of the data shows that the vast majority of home prices are in the 100,000 to 200,000 range."
      ],
      "metadata": {
        "id": "D0S-Z2Ha0e9U"
      }
    },
    {
      "cell_type": "code",
      "source": [
        "import pandas as pd\n",
        "import seaborn as sns\n",
        "import matplotlib.pyplot as plt\n",
        "from sklearn.model_selection import train_test_split\n",
        "from sklearn.preprocessing import StandardScaler\n",
        "from sklearn.linear_model import GammaRegressor\n",
        "from sklearn.compose import ColumnTransformer\n",
        "from sklearn.pipeline import Pipeline\n",
        "from sklearn.preprocessing import OneHotEncoder\n",
        "import numpy as np\n",
        "from sklearn.linear_model import Ridge\n",
        "from sklearn.model_selection import GridSearchCV"
      ],
      "metadata": {
        "id": "1BVkbblLHhuI"
      },
      "execution_count": null,
      "outputs": []
    },
    {
      "cell_type": "code",
      "execution_count": null,
      "metadata": {
        "colab": {
          "base_uri": "https://localhost:8080/"
        },
        "id": "xu0yVBVzAge3",
        "outputId": "b1b585b6-3d7c-4432-ccc5-bda9477d314d"
      },
      "outputs": [
        {
          "output_type": "execute_result",
          "data": {
            "text/plain": [
              "(   Id  MSSubClass MSZoning  LotFrontage  LotArea Street Alley LotShape  \\\n",
              " 0   1          60       RL         65.0     8450   Pave   NaN      Reg   \n",
              " 1   2          20       RL         80.0     9600   Pave   NaN      Reg   \n",
              " 2   3          60       RL         68.0    11250   Pave   NaN      IR1   \n",
              " 3   4          70       RL         60.0     9550   Pave   NaN      IR1   \n",
              " 4   5          60       RL         84.0    14260   Pave   NaN      IR1   \n",
              " \n",
              "   LandContour Utilities  ... PoolArea PoolQC Fence MiscFeature MiscVal MoSold  \\\n",
              " 0         Lvl    AllPub  ...        0    NaN   NaN         NaN       0      2   \n",
              " 1         Lvl    AllPub  ...        0    NaN   NaN         NaN       0      5   \n",
              " 2         Lvl    AllPub  ...        0    NaN   NaN         NaN       0      9   \n",
              " 3         Lvl    AllPub  ...        0    NaN   NaN         NaN       0      2   \n",
              " 4         Lvl    AllPub  ...        0    NaN   NaN         NaN       0     12   \n",
              " \n",
              "   YrSold  SaleType  SaleCondition  SalePrice  \n",
              " 0   2008        WD         Normal     208500  \n",
              " 1   2007        WD         Normal     181500  \n",
              " 2   2008        WD         Normal     223500  \n",
              " 3   2006        WD        Abnorml     140000  \n",
              " 4   2008        WD         Normal     250000  \n",
              " \n",
              " [5 rows x 81 columns],\n",
              "      Id  MSSubClass MSZoning  LotFrontage  LotArea Street Alley LotShape  \\\n",
              " 0  1461          20       RH         80.0    11622   Pave   NaN      Reg   \n",
              " 1  1462          20       RL         81.0    14267   Pave   NaN      IR1   \n",
              " 2  1463          60       RL         74.0    13830   Pave   NaN      IR1   \n",
              " 3  1464          60       RL         78.0     9978   Pave   NaN      IR1   \n",
              " 4  1465         120       RL         43.0     5005   Pave   NaN      IR1   \n",
              " \n",
              "   LandContour Utilities  ... ScreenPorch PoolArea PoolQC  Fence MiscFeature  \\\n",
              " 0         Lvl    AllPub  ...         120        0    NaN  MnPrv         NaN   \n",
              " 1         Lvl    AllPub  ...           0        0    NaN    NaN        Gar2   \n",
              " 2         Lvl    AllPub  ...           0        0    NaN  MnPrv         NaN   \n",
              " 3         Lvl    AllPub  ...           0        0    NaN    NaN         NaN   \n",
              " 4         HLS    AllPub  ...         144        0    NaN    NaN         NaN   \n",
              " \n",
              "   MiscVal MoSold  YrSold  SaleType  SaleCondition  \n",
              " 0       0      6    2010        WD         Normal  \n",
              " 1   12500      6    2010        WD         Normal  \n",
              " 2       0      3    2010        WD         Normal  \n",
              " 3       0      6    2010        WD         Normal  \n",
              " 4       0      1    2010        WD         Normal  \n",
              " \n",
              " [5 rows x 80 columns])"
            ]
          },
          "metadata": {},
          "execution_count": 2
        }
      ],
      "source": [
        "train_data = pd.read_csv('train.csv')\n",
        "test_data = pd.read_csv('test.csv')\n",
        "\n",
        "train_data.head(), test_data.head()"
      ]
    },
    {
      "cell_type": "markdown",
      "source": [
        "### Null Value erase\n"
      ],
      "metadata": {
        "id": "GCLakk7cX19y"
      }
    },
    {
      "cell_type": "code",
      "source": [
        "train_missing_values = train_data.isnull().sum()\n",
        "tr_missing_values = train_missing_values[train_missing_values > 0]\n",
        "\n",
        "test_missing_values = test_data.isnull().sum()\n",
        "te_missing_values = test_missing_values[test_missing_values > 0]\n",
        "\n",
        "tr_missing_values, te_missing_values"
      ],
      "metadata": {
        "colab": {
          "base_uri": "https://localhost:8080/"
        },
        "id": "OaREMdJm43Od",
        "outputId": "9940ddd1-77fc-4975-d165-116444ddb5d8"
      },
      "execution_count": null,
      "outputs": [
        {
          "output_type": "execute_result",
          "data": {
            "text/plain": [
              "(Series([], dtype: int64),\n",
              " MSZoning           4\n",
              " LotFrontage      227\n",
              " Alley           1352\n",
              " Utilities          2\n",
              " Exterior1st        1\n",
              " Exterior2nd        1\n",
              " MasVnrType       894\n",
              " MasVnrArea        15\n",
              " BsmtQual          44\n",
              " BsmtCond          45\n",
              " BsmtExposure      44\n",
              " BsmtFinType1      42\n",
              " BsmtFinSF1         1\n",
              " BsmtFinType2      42\n",
              " BsmtFinSF2         1\n",
              " BsmtUnfSF          1\n",
              " TotalBsmtSF        1\n",
              " BsmtFullBath       2\n",
              " BsmtHalfBath       2\n",
              " KitchenQual        1\n",
              " Functional         2\n",
              " FireplaceQu      730\n",
              " GarageType        76\n",
              " GarageYrBlt       78\n",
              " GarageFinish      78\n",
              " GarageCars         1\n",
              " GarageArea         1\n",
              " GarageQual        78\n",
              " GarageCond        78\n",
              " PoolQC          1456\n",
              " Fence           1169\n",
              " MiscFeature     1408\n",
              " SaleType           1\n",
              " dtype: int64)"
            ]
          },
          "metadata": {},
          "execution_count": 14
        }
      ]
    },
    {
      "cell_type": "code",
      "source": [
        "train_data.fillna(0, inplace=True)\n",
        "test_data.fillna(0, inplace=True)"
      ],
      "metadata": {
        "id": "-R0aetlD5cPM"
      },
      "execution_count": null,
      "outputs": []
    },
    {
      "cell_type": "code",
      "source": [
        "numeric_cols = train_data.select_dtypes(include=['number']).columns\n",
        "categorical_cols = train_data.select_dtypes(include=['object']).columns\n",
        "\n",
        "train_data[numeric_cols] = train_data[numeric_cols].fillna(train_data[numeric_cols].median())\n",
        "train_data[categorical_cols] = train_data[categorical_cols].fillna(train_data[categorical_cols].mode().iloc[0])\n",
        "\n",
        "plt.figure(figsize=(10, 6))\n",
        "sns.histplot(train_data['SalePrice'], kde=True)\n",
        "plt.title('Distribution of Sale Prices')\n",
        "plt.xlabel('Sale Price')\n",
        "plt.ylabel('Frequency')\n",
        "plt.show()"
      ],
      "metadata": {
        "colab": {
          "base_uri": "https://localhost:8080/",
          "height": 564
        },
        "id": "BPRc8swdH2aZ",
        "outputId": "98b4cb48-656e-4091-9c10-7c0e47b9c38d"
      },
      "execution_count": null,
      "outputs": [
        {
          "output_type": "display_data",
          "data": {
            "text/plain": [
              "<Figure size 1000x600 with 1 Axes>"
            ],
            "image/png": "[encoded data removed]"
          },
          "metadata": {}
        }
      ]
    },
    {
      "cell_type": "markdown",
      "source": [
        "The histogram of house sale prices illustrates a pronounced right skew, indicating that most sales occur in the lower price range, particularly between 100,000 dollar and 200,000 dollar. The frequency of sales decreases as prices increase, with a long tail extending towards the luxury market segment, up to $700,000. This skewness suggests the need for data transformations, like logarithmic scaling, to normalize the distribution for predictive modeling. Such transformations help mitigate outlier influences and improve model accuracy across various price levels."
      ],
      "metadata": {
        "id": "2-hlkyJsXW4X"
      }
    },
    {
      "cell_type": "markdown",
      "source": [
        "## **Methodology**"
      ],
      "metadata": {
        "id": "X9vuOb5j2zgO"
      }
    },
    {
      "cell_type": "markdown",
      "source": [
        "\n",
        "The methodology employed in this analysis hinges on using machine learning techniques to predict house prices from a dataset containing detailed property characteristics. The initial steps involve data preprocessing, such as handling missing values through imputation—replacing missing numerical data with the median and categorical data with the mode. We also address the right skewness of the sale price distribution by applying a logarithmic transformation, facilitating more effective model training on data that more closely resembles a normal distribution. Subsequently, a Gamma regression model is employed, allowing for the modeling of the transformed target variable which aligns well with its continuous and positively skewed nature. Key predictors include overall quality, living area, and other property features, enhanced through feature engineering to include interactions between selected variables. The final model is constructed using a pipeline that integrates preprocessing steps with regression analysis, ensuring a streamlined process from data input to prediction. This methodology not only aids in accurate price estimation but also serves as a robust framework for similar predictive tasks."
      ],
      "metadata": {
        "id": "KG6vT87l-X2g"
      }
    },
    {
      "cell_type": "markdown",
      "source": [
        "## **Empirical analysis and results**"
      ],
      "metadata": {
        "id": "DDVDXUGL-R9K"
      }
    },
    {
      "cell_type": "markdown",
      "source": [
        "Apply a logarithmic transformation to SalePrice and fit a Gamma regression model to the transformed data."
      ],
      "metadata": {
        "id": "FV0lE1-KMxRB"
      }
    },
    {
      "cell_type": "code",
      "source": [
        "train_data['LogSalePrice'] = np.log(train_data['SalePrice'])\n",
        "\n",
        "features = ['OverallQual', 'GrLivArea', 'GarageCars', 'TotalBsmtSF', 'FullBath', 'YearBuilt']\n",
        "X = train_data[features]\n",
        "y = train_data['LogSalePrice']\n",
        "\n",
        "X_train, X_valid, y_train, y_valid = train_test_split(X, y, test_size=0.2, random_state=42)\n",
        "\n",
        "preprocessor = ColumnTransformer(\n",
        "    transformers=[\n",
        "        ('num', StandardScaler(), features)\n",
        "    ])\n",
        "\n",
        "model = Pipeline(steps=[\n",
        "    ('preprocessor', preprocessor),\n",
        "    ('regressor', GammaRegressor(alpha=1, max_iter=1000))\n",
        "])\n",
        "\n",
        "\n",
        "model.fit(X_train, y_train)\n",
        "\n",
        "train_score = model.score(X_train, y_train)\n",
        "valid_score = model.score(X_valid, y_valid)\n",
        "\n",
        "train_score, valid_score"
      ],
      "metadata": {
        "colab": {
          "base_uri": "https://localhost:8080/"
        },
        "id": "QExNPxSqHaxX",
        "outputId": "abb13ff0-39d1-46b2-8b33-b14cd5d756db"
      },
      "execution_count": null,
      "outputs": [
        {
          "output_type": "execute_result",
          "data": {
            "text/plain": [
              "(0.7451576087464771, 0.7565693337217635)"
            ]
          },
          "metadata": {},
          "execution_count": 17
        }
      ]
    },
    {
      "cell_type": "markdown",
      "source": [
        "\n",
        "The analysis involves applying a logarithmic transformation to SalePrice and fitting a Gamma regression model, using features like 'OverallQual' and 'GrLivArea'. The model, built using a standard scaling preprocessing step, shows good performance with adequate training and validation scores, suggesting effective predictability of house prices."
      ],
      "metadata": {
        "id": "KRqtmvYjYnbJ"
      }
    },
    {
      "cell_type": "code",
      "source": [
        "extended_features = features + ['LotArea', 'YearRemodAdd', 'TotRmsAbvGrd', 'Fireplaces']\n",
        "interaction_terms = [('OverallQual', 'GrLivArea'), ('GarageCars', 'TotalBsmtSF')]\n",
        "\n",
        "for term in interaction_terms:\n",
        "    name = f'{term[0]}_x_{term[1]}'\n",
        "    train_data[name] = train_data[term[0]] * train_data[term[1]]\n",
        "\n",
        "extended_features += [f'{term[0]}_x_{term[1]}' for term in interaction_terms]\n",
        "\n",
        "\n",
        "X_extended = train_data[extended_features]\n",
        "\n",
        "preprocessor_extended = ColumnTransformer(\n",
        "    transformers=[\n",
        "        ('num', StandardScaler(), extended_features)\n",
        "    ])"
      ],
      "metadata": {
        "id": "ohCO-zrBpsfs"
      },
      "execution_count": null,
      "outputs": []
    },
    {
      "cell_type": "code",
      "source": [
        "X_extended_train = train_data.loc[X_train.index, extended_features]\n",
        "X_extended_valid = train_data.loc[X_valid.index, extended_features]\n",
        "\n",
        "model_extended = Pipeline(steps=[\n",
        "    ('preprocessor', preprocessor_extended),\n",
        "    ('regressor', Ridge())\n",
        "])\n",
        "\n",
        "param_grid = {\n",
        "    'regressor__alpha': [0.1, 1, 10, 100, 1000]\n",
        "}\n",
        "\n",
        "grid_search = GridSearchCV(model_extended, param_grid, cv=5, scoring='r2', verbose=1)\n",
        "grid_search.fit(X_extended_train, y_train)\n",
        "\n",
        "best_model = grid_search.best_estimator_\n",
        "\n",
        "\n",
        "train_score_extended = best_model.score(X_extended_train, y_train)\n",
        "valid_score_extended = best_model.score(X_extended_valid, y_valid)\n",
        "\n",
        "test_data_extended = test_data.copy()\n",
        "for term in interaction_terms:\n",
        "    name = f'{term[0]}_x_{term[1]}'\n",
        "    test_data_extended[name] = test_data_extended[term[0]] * test_data_extended[term[1]]\n",
        "X_test_extended = test_data_extended[extended_features]\n",
        "X_test_extended = X_test_extended.fillna(X_test_extended.median())\n",
        "\n",
        "\n",
        "log_predicted_prices = best_model.predict(X_test_extended)\n",
        "predicted_prices = np.exp(log_predicted_prices)\n",
        "\n",
        "train_score_extended, valid_score_extended"
      ],
      "metadata": {
        "colab": {
          "base_uri": "https://localhost:8080/"
        },
        "id": "MgGj3iGlIrJr",
        "outputId": "82805f3e-abe9-44b4-cbfe-7ed391f4b9fa"
      },
      "execution_count": null,
      "outputs": [
        {
          "output_type": "stream",
          "name": "stdout",
          "text": [
            "Fitting 5 folds for each of 5 candidates, totalling 25 fits\n"
          ]
        },
        {
          "output_type": "execute_result",
          "data": {
            "text/plain": [
              "(0.834189040184174, 0.8495322826368936)"
            ]
          },
          "metadata": {},
          "execution_count": 19
        }
      ]
    },
    {
      "cell_type": "markdown",
      "source": [
        "\n",
        "In this phase of the analysis, the model is enhanced through the introduction of interaction terms between selected features to capture more complex dynamics in the data. This extended model includes interactions such as 'OverallQual''GrLivArea' and 'GarageCars''TotalBsmtSF', which are combined with additional predictors like 'LotArea' and 'YearRemodAdd'. A Ridge regression is then applied using a pipeline that integrates standardized scaling of the features. The hyperparameters of the Ridge model are optimized using a GridSearchCV approach across 5 folds, evaluating 5 different candidates, totaling 25 fits. The resulting model shows strong performance with training and validation scores of approximately 0.834 and 0.850, respectively, indicating high predictive accuracy and generalization capability on unseen data. This robustness suggests that the model effectively captures the underlying patterns and relationships in the dataset, making it a reliable tool for predicting house prices."
      ],
      "metadata": {
        "id": "XTZsI6JtZCr9"
      }
    },
    {
      "cell_type": "code",
      "source": [
        "prediction_output = pd.DataFrame({\n",
        "    'Id': test_data_extended['Id'],\n",
        "    'PredictedSalePrice': predicted_prices\n",
        "})\n",
        "\n",
        "prediction_output"
      ],
      "metadata": {
        "colab": {
          "base_uri": "https://localhost:8080/",
          "height": 424
        },
        "id": "_y3OrOeSKgup",
        "outputId": "4464256c-1aa6-49ce-cfb6-3d4e97c0bae4"
      },
      "execution_count": null,
      "outputs": [
        {
          "output_type": "execute_result",
          "data": {
            "text/plain": [
              "        Id  PredictedSalePrice\n",
              "0     1461       108538.859056\n",
              "1     1462       139422.210563\n",
              "2     1463       175908.969026\n",
              "3     1464       189917.945977\n",
              "4     1465       198069.210225\n",
              "...    ...                 ...\n",
              "1454  2915        91962.064503\n",
              "1455  2916       101114.275297\n",
              "1456  2917       159458.803984\n",
              "1457  2918       117034.175629\n",
              "1458  2919       242018.711732\n",
              "\n",
              "[1459 rows x 2 columns]"
            ],
            "text/html": [
              "\n",
              "  <div id=\"df-dec07d3f-afd2-4ff1-abcd-aad375864495\" class=\"colab-df-container\">\n",
              "    <div>\n",
              "<style scoped>\n",
              "    .dataframe tbody tr th:only-of-type {\n",
              "        vertical-align: middle;\n",
              "    }\n",
              "\n",
              "    .dataframe tbody tr th {\n",
              "        vertical-align: top;\n",
              "    }\n",
              "\n",
              "    .dataframe thead th {\n",
              "        text-align: right;\n",
              "    }\n",
              "</style>\n",
              "<table border=\"1\" class=\"dataframe\">\n",
              "  <thead>\n",
              "    <tr style=\"text-align: right;\">\n",
              "      <th></th>\n",
              "      <th>Id</th>\n",
              "      <th>PredictedSalePrice</th>\n",
              "    </tr>\n",
              "  </thead>\n",
              "  <tbody>\n",
              "    <tr>\n",
              "      <th>0</th>\n",
              "      <td>1461</td>\n",
              "      <td>108538.859056</td>\n",
              "    </tr>\n",
              "    <tr>\n",
              "      <th>1</th>\n",
              "      <td>1462</td>\n",
              "      <td>139422.210563</td>\n",
              "    </tr>\n",
              "    <tr>\n",
              "      <th>2</th>\n",
              "      <td>1463</td>\n",
              "      <td>175908.969026</td>\n",
              "    </tr>\n",
              "    <tr>\n",
              "      <th>3</th>\n",
              "      <td>1464</td>\n",
              "      <td>189917.945977</td>\n",
              "    </tr>\n",
              "    <tr>\n",
              "      <th>4</th>\n",
              "      <td>1465</td>\n",
              "      <td>198069.210225</td>\n",
              "    </tr>\n",
              "    <tr>\n",
              "      <th>...</th>\n",
              "      <td>...</td>\n",
              "      <td>...</td>\n",
              "    </tr>\n",
              "    <tr>\n",
              "      <th>1454</th>\n",
              "      <td>2915</td>\n",
              "      <td>91962.064503</td>\n",
              "    </tr>\n",
              "    <tr>\n",
              "      <th>1455</th>\n",
              "      <td>2916</td>\n",
              "      <td>101114.275297</td>\n",
              "    </tr>\n",
              "    <tr>\n",
              "      <th>1456</th>\n",
              "      <td>2917</td>\n",
              "      <td>159458.803984</td>\n",
              "    </tr>\n",
              "    <tr>\n",
              "      <th>1457</th>\n",
              "      <td>2918</td>\n",
              "      <td>117034.175629</td>\n",
              "    </tr>\n",
              "    <tr>\n",
              "      <th>1458</th>\n",
              "      <td>2919</td>\n",
              "      <td>242018.711732</td>\n",
              "    </tr>\n",
              "  </tbody>\n",
              "</table>\n",
              "<p>1459 rows × 2 columns</p>\n",
              "</div>\n",
              "    <div class=\"colab-df-buttons\">\n",
              "\n",
              "  <div class=\"colab-df-container\">\n",
              "    <button class=\"colab-df-convert\" onclick=\"convertToInteractive('df-dec07d3f-afd2-4ff1-abcd-aad375864495')\"\n",
              "            title=\"Convert this dataframe to an interactive table.\"\n",
              "            style=\"display:none;\">\n",
              "\n",
              "  <svg xmlns=\"http://www.w3.org/2000/svg\" height=\"24px\" viewBox=\"0 -960 960 960\">\n",
              "    <path d=\"M120-120v-720h720v720H120Zm60-500h600v-160H180v160Zm220 220h160v-160H400v160Zm0 220h160v-160H400v160ZM180-400h160v-160H180v160Zm440 0h160v-160H620v160ZM180-180h160v-160H180v160Zm440 0h160v-160H620v160Z\"/>\n",
              "  </svg>\n",
              "    </button>\n",
              "\n",
              "  <style>\n",
              "    .colab-df-container {\n",
              "      display:flex;\n",
              "      gap: 12px;\n",
              "    }\n",
              "\n",
              "    .colab-df-convert {\n",
              "      background-color: #E8F0FE;\n",
              "      border: none;\n",
              "      border-radius: 50%;\n",
              "      cursor: pointer;\n",
              "      display: none;\n",
              "      fill: #1967D2;\n",
              "      height: 32px;\n",
              "      padding: 0 0 0 0;\n",
              "      width: 32px;\n",
              "    }\n",
              "\n",
              "    .colab-df-convert:hover {\n",
              "      background-color: #E2EBFA;\n",
              "      box-shadow: 0px 1px 2px rgba(60, 64, 67, 0.3), 0px 1px 3px 1px rgba(60, 64, 67, 0.15);\n",
              "      fill: #174EA6;\n",
              "    }\n",
              "\n",
              "    .colab-df-buttons div {\n",
              "      margin-bottom: 4px;\n",
              "    }\n",
              "\n",
              "    [theme=dark] .colab-df-convert {\n",
              "      background-color: #3B4455;\n",
              "      fill: #D2E3FC;\n",
              "    }\n",
              "\n",
              "    [theme=dark] .colab-df-convert:hover {\n",
              "      background-color: #434B5C;\n",
              "      box-shadow: 0px 1px 3px 1px rgba(0, 0, 0, 0.15);\n",
              "      filter: drop-shadow(0px 1px 2px rgba(0, 0, 0, 0.3));\n",
              "      fill: #FFFFFF;\n",
              "    }\n",
              "  </style>\n",
              "\n",
              "    <script>\n",
              "      const buttonEl =\n",
              "        document.querySelector('#df-dec07d3f-afd2-4ff1-abcd-aad375864495 button.colab-df-convert');\n",
              "      buttonEl.style.display =\n",
              "        google.colab.kernel.accessAllowed ? 'block' : 'none';\n",
              "\n",
              "      async function convertToInteractive(key) {\n",
              "        const element = document.querySelector('#df-dec07d3f-afd2-4ff1-abcd-aad375864495');\n",
              "        const dataTable =\n",
              "          await google.colab.kernel.invokeFunction('convertToInteractive',\n",
              "                                                    [key], {});\n",
              "        if (!dataTable) return;\n",
              "\n",
              "        const docLinkHtml = 'Like what you see? Visit the ' +\n",
              "          '<a target=\"_blank\" href=https://colab.research.google.com/notebooks/data_table.ipynb>data table notebook</a>'\n",
              "          + ' to learn more about interactive tables.';\n",
              "        element.innerHTML = '';\n",
              "        dataTable['output_type'] = 'display_data';\n",
              "        await google.colab.output.renderOutput(dataTable, element);\n",
              "        const docLink = document.createElement('div');\n",
              "        docLink.innerHTML = docLinkHtml;\n",
              "        element.appendChild(docLink);\n",
              "      }\n",
              "    </script>\n",
              "  </div>\n",
              "\n",
              "\n",
              "<div id=\"df-057d6363-ea4e-49d0-bbfa-aa6dcd4cbce5\">\n",
              "  <button class=\"colab-df-quickchart\" onclick=\"quickchart('df-057d6363-ea4e-49d0-bbfa-aa6dcd4cbce5')\"\n",
              "            title=\"Suggest charts\"\n",
              "            style=\"display:none;\">\n",
              "\n",
              "<svg xmlns=\"http://www.w3.org/2000/svg\" height=\"24px\"viewBox=\"0 0 24 24\"\n",
              "     width=\"24px\">\n",
              "    <g>\n",
              "        <path d=\"M19 3H5c-1.1 0-2 .9-2 2v14c0 1.1.9 2 2 2h14c1.1 0 2-.9 2-2V5c0-1.1-.9-2-2-2zM9 17H7v-7h2v7zm4 0h-2V7h2v10zm4 0h-2v-4h2v4z\"/>\n",
              "    </g>\n",
              "</svg>\n",
              "  </button>\n",
              "\n",
              "<style>\n",
              "  .colab-df-quickchart {\n",
              "      --bg-color: #E8F0FE;\n",
              "      --fill-color: #1967D2;\n",
              "      --hover-bg-color: #E2EBFA;\n",
              "      --hover-fill-color: #174EA6;\n",
              "      --disabled-fill-color: #AAA;\n",
              "      --disabled-bg-color: #DDD;\n",
              "  }\n",
              "\n",
              "  [theme=dark] .colab-df-quickchart {\n",
              "      --bg-color: #3B4455;\n",
              "      --fill-color: #D2E3FC;\n",
              "      --hover-bg-color: #434B5C;\n",
              "      --hover-fill-color: #FFFFFF;\n",
              "      --disabled-bg-color: #3B4455;\n",
              "      --disabled-fill-color: #666;\n",
              "  }\n",
              "\n",
              "  .colab-df-quickchart {\n",
              "    background-color: var(--bg-color);\n",
              "    border: none;\n",
              "    border-radius: 50%;\n",
              "    cursor: pointer;\n",
              "    display: none;\n",
              "    fill: var(--fill-color);\n",
              "    height: 32px;\n",
              "    padding: 0;\n",
              "    width: 32px;\n",
              "  }\n",
              "\n",
              "  .colab-df-quickchart:hover {\n",
              "    background-color: var(--hover-bg-color);\n",
              "    box-shadow: 0 1px 2px rgba(60, 64, 67, 0.3), 0 1px 3px 1px rgba(60, 64, 67, 0.15);\n",
              "    fill: var(--button-hover-fill-color);\n",
              "  }\n",
              "\n",
              "  .colab-df-quickchart-complete:disabled,\n",
              "  .colab-df-quickchart-complete:disabled:hover {\n",
              "    background-color: var(--disabled-bg-color);\n",
              "    fill: var(--disabled-fill-color);\n",
              "    box-shadow: none;\n",
              "  }\n",
              "\n",
              "  .colab-df-spinner {\n",
              "    border: 2px solid var(--fill-color);\n",
              "    border-color: transparent;\n",
              "    border-bottom-color: var(--fill-color);\n",
              "    animation:\n",
              "      spin 1s steps(1) infinite;\n",
              "  }\n",
              "\n",
              "  @keyframes spin {\n",
              "    0% {\n",
              "      border-color: transparent;\n",
              "      border-bottom-color: var(--fill-color);\n",
              "      border-left-color: var(--fill-color);\n",
              "    }\n",
              "    20% {\n",
              "      border-color: transparent;\n",
              "      border-left-color: var(--fill-color);\n",
              "      border-top-color: var(--fill-color);\n",
              "    }\n",
              "    30% {\n",
              "      border-color: transparent;\n",
              "      border-left-color: var(--fill-color);\n",
              "      border-top-color: var(--fill-color);\n",
              "      border-right-color: var(--fill-color);\n",
              "    }\n",
              "    40% {\n",
              "      border-color: transparent;\n",
              "      border-right-color: var(--fill-color);\n",
              "      border-top-color: var(--fill-color);\n",
              "    }\n",
              "    60% {\n",
              "      border-color: transparent;\n",
              "      border-right-color: var(--fill-color);\n",
              "    }\n",
              "    80% {\n",
              "      border-color: transparent;\n",
              "      border-right-color: var(--fill-color);\n",
              "      border-bottom-color: var(--fill-color);\n",
              "    }\n",
              "    90% {\n",
              "      border-color: transparent;\n",
              "      border-bottom-color: var(--fill-color);\n",
              "    }\n",
              "  }\n",
              "</style>\n",
              "\n",
              "  <script>\n",
              "    async function quickchart(key) {\n",
              "      const quickchartButtonEl =\n",
              "        document.querySelector('#' + key + ' button');\n",
              "      quickchartButtonEl.disabled = true;  // To prevent multiple clicks.\n",
              "      quickchartButtonEl.classList.add('colab-df-spinner');\n",
              "      try {\n",
              "        const charts = await google.colab.kernel.invokeFunction(\n",
              "            'suggestCharts', [key], {});\n",
              "      } catch (error) {\n",
              "        console.error('Error during call to suggestCharts:', error);\n",
              "      }\n",
              "      quickchartButtonEl.classList.remove('colab-df-spinner');\n",
              "      quickchartButtonEl.classList.add('colab-df-quickchart-complete');\n",
              "    }\n",
              "    (() => {\n",
              "      let quickchartButtonEl =\n",
              "        document.querySelector('#df-057d6363-ea4e-49d0-bbfa-aa6dcd4cbce5 button');\n",
              "      quickchartButtonEl.style.display =\n",
              "        google.colab.kernel.accessAllowed ? 'block' : 'none';\n",
              "    })();\n",
              "  </script>\n",
              "</div>\n",
              "\n",
              "  <div id=\"id_ebd2f9e9-c885-4dff-96a5-993d99b321b5\">\n",
              "    <style>\n",
              "      .colab-df-generate {\n",
              "        background-color: #E8F0FE;\n",
              "        border: none;\n",
              "        border-radius: 50%;\n",
              "        cursor: pointer;\n",
              "        display: none;\n",
              "        fill: #1967D2;\n",
              "        height: 32px;\n",
              "        padding: 0 0 0 0;\n",
              "        width: 32px;\n",
              "      }\n",
              "\n",
              "      .colab-df-generate:hover {\n",
              "        background-color: #E2EBFA;\n",
              "        box-shadow: 0px 1px 2px rgba(60, 64, 67, 0.3), 0px 1px 3px 1px rgba(60, 64, 67, 0.15);\n",
              "        fill: #174EA6;\n",
              "      }\n",
              "\n",
              "      [theme=dark] .colab-df-generate {\n",
              "        background-color: #3B4455;\n",
              "        fill: #D2E3FC;\n",
              "      }\n",
              "\n",
              "      [theme=dark] .colab-df-generate:hover {\n",
              "        background-color: #434B5C;\n",
              "        box-shadow: 0px 1px 3px 1px rgba(0, 0, 0, 0.15);\n",
              "        filter: drop-shadow(0px 1px 2px rgba(0, 0, 0, 0.3));\n",
              "        fill: #FFFFFF;\n",
              "      }\n",
              "    </style>\n",
              "    <button class=\"colab-df-generate\" onclick=\"generateWithVariable('prediction_output')\"\n",
              "            title=\"Generate code using this dataframe.\"\n",
              "            style=\"display:none;\">\n",
              "\n",
              "  <svg xmlns=\"http://www.w3.org/2000/svg\" height=\"24px\"viewBox=\"0 0 24 24\"\n",
              "       width=\"24px\">\n",
              "    <path d=\"M7,19H8.4L18.45,9,17,7.55,7,17.6ZM5,21V16.75L18.45,3.32a2,2,0,0,1,2.83,0l1.4,1.43a1.91,1.91,0,0,1,.58,1.4,1.91,1.91,0,0,1-.58,1.4L9.25,21ZM18.45,9,17,7.55Zm-12,3A5.31,5.31,0,0,0,4.9,8.1,5.31,5.31,0,0,0,1,6.5,5.31,5.31,0,0,0,4.9,4.9,5.31,5.31,0,0,0,6.5,1,5.31,5.31,0,0,0,8.1,4.9,5.31,5.31,0,0,0,12,6.5,5.46,5.46,0,0,0,6.5,12Z\"/>\n",
              "  </svg>\n",
              "    </button>\n",
              "    <script>\n",
              "      (() => {\n",
              "      const buttonEl =\n",
              "        document.querySelector('#id_ebd2f9e9-c885-4dff-96a5-993d99b321b5 button.colab-df-generate');\n",
              "      buttonEl.style.display =\n",
              "        google.colab.kernel.accessAllowed ? 'block' : 'none';\n",
              "\n",
              "      buttonEl.onclick = () => {\n",
              "        google.colab.notebook.generateWithVariable('prediction_output');\n",
              "      }\n",
              "      })();\n",
              "    </script>\n",
              "  </div>\n",
              "\n",
              "    </div>\n",
              "  </div>\n"
            ],
            "application/vnd.google.colaboratory.intrinsic+json": {
              "type": "dataframe",
              "variable_name": "prediction_output",
              "summary": "{\n  \"name\": \"prediction_output\",\n  \"rows\": 1459,\n  \"fields\": [\n    {\n      \"column\": \"Id\",\n      \"properties\": {\n        \"dtype\": \"number\",\n        \"std\": 421,\n        \"min\": 1461,\n        \"max\": 2919,\n        \"num_unique_values\": 1459,\n        \"samples\": [\n          2782,\n          2297,\n          1874\n        ],\n        \"semantic_type\": \"\",\n        \"description\": \"\"\n      }\n    },\n    {\n      \"column\": \"PredictedSalePrice\",\n      \"properties\": {\n        \"dtype\": \"number\",\n        \"std\": 67352.74604599763,\n        \"min\": 56125.16788473721,\n        \"max\": 741225.4579455269,\n        \"num_unique_values\": 1454,\n        \"samples\": [\n          287410.49630499363,\n          111041.94365366329,\n          185495.45958230604\n        ],\n        \"semantic_type\": \"\",\n        \"description\": \"\"\n      }\n    }\n  ]\n}"
            }
          },
          "metadata": {},
          "execution_count": 20
        }
      ]
    },
    {
      "cell_type": "markdown",
      "source": [
        "These predictions vary widely, reflecting the diverse range of property values in the dataset—from around $108,538 to over $242,018, demonstrating the model's ability to handle a broad spectrum of house characteristics and market conditions."
      ],
      "metadata": {
        "id": "tZpvE7ZXW2JH"
      }
    },
    {
      "cell_type": "markdown",
      "source": [
        "## summary\n",
        "In the empirical analysis section of the study, the focus was on evaluating the performance of the Gamma regression model. After applying a logarithmic transformation to the sale price to mitigate skewness, a set of primary predictors—such as overall quality, living area, and the number of garages—was chosen for initial modeling. This basic model was first assessed for its ability to predict house prices effectively, yielding satisfactory training and validation scores, indicating a decent fit to the data. To refine the model further, interaction terms were introduced between key features to capture more complex relationships, potentially boosting predictive accuracy. These included interactions like overall quality with living area. An extended model incorporating these interactions was then developed and tested, showing improved performance over the initial model, as evidenced by higher validation scores. This approach underscores the value of exploring feature interactions in enhancing model predictability in regression analyses."
      ],
      "metadata": {
        "id": "_-3RHYKEWtBW"
      }
    },
    {
      "cell_type": "markdown",
      "source": [
        "## **Concluding remarks**"
      ],
      "metadata": {
        "id": "EC7xuKfZMKoY"
      }
    },
    {
      "cell_type": "markdown",
      "source": [
        "The strengths of the probabilistic forecasting approach used in our analysis include its ability to model the inherent uncertainty in real-world data, providing a more realistic range of outcomes for decision-making purposes. The use of a Gamma regression model is particularly advantageous when dealing with right-skewed data, such as house prices, as it can transform the data to fit more normal distributions, improving the prediction accuracy. Moreover, the inclusion of both numerical and categorical variables allows for a comprehensive view of the factors influencing house prices. However, there are limitations to consider. The model's performance heavily depends on the quality and completeness of the data. Missing values and the choice of imputation method can significantly impact the model's accuracy. Additionally, the model might not capture complex nonlinear relationships unless specifically designed to do so, which can be a drawback in more volatile markets or datasets with higher-dimensional interactions. Lastly, the predictive power of the model is confined to the scope of the data it was trained on, which might limit its generalizability to other regions or different economic conditions."
      ],
      "metadata": {
        "id": "3GbXjsJEMMpi"
      }
    },
    {
      "cell_type": "markdown",
      "source": [
        "## **Contribution statement**"
      ],
      "metadata": {
        "id": "z2cvGS-5N1Ra"
      }
    },
    {
      "cell_type": "markdown",
      "source": [
        "Yuchen Dai: 50%\n",
        "\n",
        "Nuozhou Zhang: 50%"
      ],
      "metadata": {
        "id": "Nnl6aWjlN3XO"
      }
    }
  ]
}